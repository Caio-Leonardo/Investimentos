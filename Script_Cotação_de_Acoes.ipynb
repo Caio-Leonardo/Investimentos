{
  "nbformat": 4,
  "nbformat_minor": 5,
  "metadata": {
    "kernelspec": {
      "name": "python3",
      "display_name": "Python 3",
      "language": "python"
    },
    "language_info": {
      "name": "python",
      "version": "3.6.13",
      "mimetype": "text/x-python",
      "codemirror_mode": {
        "name": "ipython",
        "version": 3
      },
      "pygments_lexer": "ipython3",
      "nbconvert_exporter": "python",
      "file_extension": ".py"
    },
    "colab": {
      "name": "Script Cotação de Acoes.ipynb",
      "provenance": []
    }
  },
  "cells": [
    {
      "cell_type": "code",
      "metadata": {
        "trusted": true,
        "id": "9eIir_W9BQdj"
      },
      "source": [
        "!pip install pandas_datareader"
      ],
      "id": "9eIir_W9BQdj",
      "execution_count": null,
      "outputs": []
    },
    {
      "cell_type": "code",
      "metadata": {
        "trusted": true,
        "id": "4lIqARkLBQdn"
      },
      "source": [
        "import pandas as pd\n",
        "from pandas_datareader import data as web\n",
        "import matplotlib.pyplot as plt\n",
        "\n",
        "# vamos pegar cotação do Indice e de Petrobras\n",
        "\n",
        "#indice\n",
        "df = web.DataReader(f'^BVSP', data_source='yahoo', start=f'02-20-2020', end='02-20-2021')\n",
        "display(df)\n",
        "df[\"Adj Close\"].plot(figsize=(15, 10))\n",
        "plt.show()\n",
        "\n",
        "#PETR4\n",
        "df = web.DataReader(f'PETR4.SA', data_source='yahoo', start=f'02-20-2020', end='02-20-2021')\n",
        "display(df)\n",
        "df[\"Adj Close\"].plot(figsize=(15, 10))\n",
        "plt.show()"
      ],
      "id": "4lIqARkLBQdn",
      "execution_count": null,
      "outputs": []
    },
    {
      "cell_type": "code",
      "metadata": {
        "trusted": true,
        "id": "sGIgNZF-BQdp"
      },
      "source": [
        "data_inicial = \"01/01/2020\"\n",
        "data_final = \"01/01/2021\"\n",
        "\n",
        "empresas_df = pd.read_excel(\"Empresas.xlsx\")\n",
        "display(empresas_df)\n",
        "\n",
        "for empresa in empresas_df['Empresas']: \n",
        "    print(f\"{empresa}:\")\n",
        "    df = web.DataReader(f'{empresa}.SA', data_source='yahoo', start=data_inicial, end=data_final)\n",
        "    display(df)\n",
        "    df[\"Adj Close\"].plot(figsize=(15, 10))\n",
        "    plt.show()\n",
        "                     "
      ],
      "id": "sGIgNZF-BQdp",
      "execution_count": null,
      "outputs": []
    }
  ]
}